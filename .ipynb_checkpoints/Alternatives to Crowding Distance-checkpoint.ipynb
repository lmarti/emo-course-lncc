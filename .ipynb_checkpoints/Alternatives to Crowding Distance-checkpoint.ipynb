{
 "metadata": {
  "name": "",
  "signature": "sha256:be126bf188058eac9ccb63b74b7b1e0d8e370a7304366c4e08f7f2d5e1a42aa6"
 },
 "nbformat": 3,
 "nbformat_minor": 0,
 "worksheets": [
  {
   "cells": [
    {
     "cell_type": "markdown",
     "metadata": {},
     "source": [
      "# A train conversation on crowding distance\n"
     ]
    },
    {
     "cell_type": "markdown",
     "metadata": {},
     "source": [
      "As a result from our train conversation I prepared the following IPython notebook that compares different alternatives to crowdwing distance as a \"secondary\" criterion in nondominated sorting.\n",
      "\n",
      "In case you want to run this notebook on your own you need IPython and the DEAP library (https://www.github.com/DEAP/deap)."
     ]
    },
    {
     "cell_type": "code",
     "collapsed": false,
     "input": [
      "import time, array, random, copy, math\n",
      "\n",
      "import numpy as np\n",
      "import pandas as pd\n",
      "from scipy.spatial.distance import euclidean\n",
      "\n",
      "import matplotlib.pyplot as plt\n",
      "%matplotlib inline\n",
      "\n",
      "from deap import algorithms, base, benchmarks, tools, creator\n",
      "\n",
      "import deap.benchmarks.tools as bt\n",
      "from itertools import chain\n",
      "from operator import attrgetter, itemgetter"
     ],
     "language": "python",
     "metadata": {},
     "outputs": [],
     "prompt_number": 1
    },
    {
     "cell_type": "markdown",
     "metadata": {},
     "source": [
      "For the first experiments we use DTLZ2, which is a reasonably simple problem, and 5 objectives."
     ]
    },
    {
     "cell_type": "code",
     "collapsed": false,
     "input": [
      "BOUND_LOW, BOUND_UP = 0.0, 1.0\n",
      "number_of_objs = 5\n",
      "number_of_variables = 30"
     ],
     "language": "python",
     "metadata": {},
     "outputs": [],
     "prompt_number": 2
    },
    {
     "cell_type": "code",
     "collapsed": false,
     "input": [
      "def dtlz2_instance(ind):\n",
      "    return benchmarks.dtlz2(ind, number_of_objs)"
     ],
     "language": "python",
     "metadata": {},
     "outputs": [],
     "prompt_number": 3
    },
    {
     "cell_type": "markdown",
     "metadata": {},
     "source": [
      "Here we create the fitness assignment function as a minimization problem with 5 objectives."
     ]
    },
    {
     "cell_type": "code",
     "collapsed": false,
     "input": [
      "creator.create(\"FitnessMin\", base.Fitness, weights=(-1.0,)* number_of_objs)\n",
      "creator.create(\"Individual\", array.array, typecode='d', \n",
      "               fitness=creator.FitnessMin)"
     ],
     "language": "python",
     "metadata": {},
     "outputs": [],
     "prompt_number": 4
    },
    {
     "cell_type": "markdown",
     "metadata": {},
     "source": [
      "The `toolbox` contains the configuration of the algorithm:\n",
      "* how to create an individual,\n",
      "* how to create a population,\n",
      "* the evolutionary operators,\n",
      "* etc."
     ]
    },
    {
     "cell_type": "code",
     "collapsed": false,
     "input": [
      "toolbox = base.Toolbox()\n",
      "toolbox.register(\"evaluate\", dtlz2_instance)"
     ],
     "language": "python",
     "metadata": {},
     "outputs": [],
     "prompt_number": 5
    },
    {
     "cell_type": "code",
     "collapsed": false,
     "input": [
      "def uniform(low, up, size=None):\n",
      "    try:\n",
      "        return [random.uniform(a, b) for a, b in zip(low, up)]\n",
      "    except TypeError:\n",
      "        return [random.uniform(a, b) for a, b in zip([low] * size, [up] * size)]\n",
      "\n",
      "toolbox.register(\"attr_float\", uniform, BOUND_LOW, BOUND_UP, number_of_variables)\n",
      "toolbox.register(\"individual\", tools.initIterate, creator.Individual, toolbox.attr_float)\n",
      "toolbox.register(\"population\", tools.initRepeat, list, toolbox.individual)"
     ],
     "language": "python",
     "metadata": {},
     "outputs": [],
     "prompt_number": 6
    },
    {
     "cell_type": "code",
     "collapsed": false,
     "input": [
      "toolbox.register(\"mate\", tools.cxSimulatedBinaryBounded, \n",
      "                 low=BOUND_LOW, up=BOUND_UP, eta=20.0)\n",
      "toolbox.register(\"mutate\", tools.mutPolynomialBounded, \n",
      "                 low=BOUND_LOW, up=BOUND_UP, eta=20.0, indpb=1.0/number_of_variables)"
     ],
     "language": "python",
     "metadata": {},
     "outputs": [],
     "prompt_number": 7
    },
    {
     "cell_type": "code",
     "collapsed": false,
     "input": [
      "toolbox.pop_size = 50    # population size\n",
      "toolbox.max_gen = 100    # max number of iteration\n",
      "toolbox.mut_prob = 0.05  # mutation probability"
     ],
     "language": "python",
     "metadata": {},
     "outputs": [],
     "prompt_number": 8
    },
    {
     "cell_type": "markdown",
     "metadata": {},
     "source": [
      "The `stats` object describes the statistics we want to collect. For flexibility, we will store whole populations for every iteration."
     ]
    },
    {
     "cell_type": "code",
     "collapsed": false,
     "input": [
      "stats = tools.Statistics()\n",
      "stats.register(\"pop\", copy.deepcopy)"
     ],
     "language": "python",
     "metadata": {},
     "outputs": [],
     "prompt_number": 9
    },
    {
     "cell_type": "markdown",
     "metadata": {},
     "source": [
      "Using DEAP is very simple to code a flexible NSGA-II whose internal functions can be modified via the `toolbox`."
     ]
    },
    {
     "cell_type": "code",
     "collapsed": false,
     "input": [
      "def run_algo(toolbox, stats=stats, verbose=False):\n",
      "    pop = toolbox.population(n=toolbox.pop_size)\n",
      "    for ind in pop:\n",
      "        ind.fitness.values = toolbox.evaluate(ind)\n",
      "    pop = toolbox.select(pop, len(pop))\n",
      "    res, logbook = algorithms.eaMuPlusLambda(pop, toolbox, mu=toolbox.pop_size, \n",
      "                                     lambda_=toolbox.pop_size, \n",
      "                                     cxpb=1-toolbox.mut_prob,\n",
      "                                     mutpb=toolbox.mut_prob, \n",
      "                                     stats=stats, \n",
      "                                     ngen=toolbox.max_gen, \n",
      "                                     verbose=verbose)\n",
      "    return logbook"
     ],
     "language": "python",
     "metadata": {},
     "outputs": [],
     "prompt_number": 10
    },
    {
     "cell_type": "markdown",
     "metadata": {},
     "source": [
      "We now code the alternatives to crowding distance that we will test."
     ]
    },
    {
     "cell_type": "code",
     "collapsed": false,
     "input": [
      "def assign_random(individuals):\n",
      "    if len(individuals) == 0:\n",
      "        return\n",
      "    for ind in individuals:\n",
      "        ind.fitness.distance = random.random()"
     ],
     "language": "python",
     "metadata": {},
     "outputs": [],
     "prompt_number": 11
    },
    {
     "cell_type": "code",
     "collapsed": false,
     "input": [
      "def assign_random_keep_extremes(individuals):\n",
      "    if len(individuals) == 0:\n",
      "        return\n",
      "    \n",
      "    distances = [0.0] * len(individuals)\n",
      "    crowd = [(ind.fitness.values, i) for i, ind in enumerate(individuals)]\n",
      "    \n",
      "    nobj = len(individuals[0].fitness.values)\n",
      "    \n",
      "    for i in range(nobj):\n",
      "        crowd.sort(key=lambda element: element[0][i])\n",
      "        distances[crowd[0][1]] = float(\"inf\")\n",
      "        distances[crowd[-1][1]] = float(\"inf\")\n",
      "        if crowd[-1][0][i] == crowd[0][0][i]:\n",
      "            continue\n",
      "    \n",
      "    for i,ind in enumerate(individuals):\n",
      "        if distances[i] == 0:\n",
      "            dists = [other for other in individuals if not ind == other]\n",
      "            if not dists:\n",
      "                ind.fitness.distance = float(\"inf\")\n",
      "            else:\n",
      "                ind.fitness.distance = random.random()\n",
      "        else:\n",
      "            ind.fitness.distance = distances[i]"
     ],
     "language": "python",
     "metadata": {},
     "outputs": [],
     "prompt_number": 12
    },
    {
     "cell_type": "code",
     "collapsed": false,
     "input": [
      "def compute_distance_matrix(individuals):\n",
      "    matrix = np.zeros((len(individuals),len(individuals)))\n",
      "    for i in range(len(individuals)-1):\n",
      "        for j in range(i+1, len(individuals)):\n",
      "            matrix[i][j] = euclidean(individuals[i].fitness.values, individuals[j].fitness.values)\n",
      "            matrix[j][i] = matrix[i][j]\n",
      "    return matrix"
     ],
     "language": "python",
     "metadata": {},
     "outputs": [],
     "prompt_number": 13
    },
    {
     "cell_type": "code",
     "collapsed": false,
     "input": [
      "def assign_euclidean(individuals):\n",
      "    dist_matrix = compute_distance_matrix(individuals)\n",
      "    \n",
      "    for i,ind in enumerate(individuals):\n",
      "        dists = [dist_matrix[i][j] for j in range(len(individuals)) if not i == j]\n",
      "        if not dists:\n",
      "            ind.fitness.distance = float(\"inf\")\n",
      "        else:\n",
      "            ind.fitness.distance = min(dists)"
     ],
     "language": "python",
     "metadata": {},
     "outputs": [],
     "prompt_number": 14
    },
    {
     "cell_type": "code",
     "collapsed": false,
     "input": [
      "def assign_euclidean_keep_extremes(individuals):  \n",
      "    if len(individuals) == 0:\n",
      "        return\n",
      "    \n",
      "    distances = [0.0] * len(individuals)\n",
      "    crowd = [(ind.fitness.values, i) for i, ind in enumerate(individuals)]\n",
      "    \n",
      "    nobj = len(individuals[0].fitness.values)\n",
      "    \n",
      "    for i in range(nobj):\n",
      "        crowd.sort(key=lambda element: element[0][i])\n",
      "        distances[crowd[0][1]] = float(\"inf\")\n",
      "        distances[crowd[-1][1]] = float(\"inf\")\n",
      "        if crowd[-1][0][i] == crowd[0][0][i]:\n",
      "            continue\n",
      "    \n",
      "    dist_matrix = compute_distance_matrix(individuals)\n",
      "    \n",
      "    for i,ind in enumerate(individuals):\n",
      "        if distances[i] == 0:\n",
      "            dists = [dist_matrix[i][j] for j in range(len(individuals)) if not i == j]\n",
      "            if not dists:\n",
      "                ind.fitness.distance = float(\"inf\")\n",
      "            else:\n",
      "                ind.fitness.distance = min(dists)\n",
      "        else:\n",
      "            ind.fitness.distance = distances[i]"
     ],
     "language": "python",
     "metadata": {},
     "outputs": [],
     "prompt_number": 15
    },
    {
     "cell_type": "markdown",
     "metadata": {},
     "source": [
      "NSGA-II selection must be modified to deal with the crowding distance alternatives."
     ]
    },
    {
     "cell_type": "code",
     "collapsed": false,
     "input": [
      "def selection_custom(individuals, k, nd='standard', \n",
      "                     distance=tools.emo.assignCrowdingDist,\n",
      "                     key='fitness.crowding_dist', reverse=True):\n",
      "    if nd == 'standard':\n",
      "        pareto_fronts = tools.sortNondominated(individuals, k)\n",
      "    elif nd == 'log':\n",
      "        pareto_fronts = tools.sortLogNondominated(individuals, k)\n",
      "    else:\n",
      "        raise Exception('selNSGA2: The choice of non-dominated sorting '\n",
      "                        'method \"{0}\" is invalid.'.format(nd))\n",
      "\n",
      "    for front in pareto_fronts:\n",
      "        distance(front)\n",
      "    \n",
      "    chosen = list(chain(*pareto_fronts[:-1]))\n",
      "    k = k - len(chosen)\n",
      "    if k > 0:\n",
      "        sorted_front = sorted(pareto_fronts[-1], key=attrgetter(key), reverse=reverse)\n",
      "        chosen.extend(sorted_front[:k])\n",
      "        \n",
      "    return chosen"
     ],
     "language": "python",
     "metadata": {},
     "outputs": [],
     "prompt_number": 16
    },
    {
     "cell_type": "markdown",
     "metadata": {},
     "source": [
      "# Running the experiments"
     ]
    },
    {
     "cell_type": "markdown",
     "metadata": {},
     "source": [
      "Repeat the experiments `number_of_runs` times."
     ]
    },
    {
     "cell_type": "code",
     "collapsed": false,
     "input": [
      "number_of_runs = 30"
     ],
     "language": "python",
     "metadata": {},
     "outputs": [],
     "prompt_number": 17
    },
    {
     "cell_type": "markdown",
     "metadata": {},
     "source": [
      "Using Python `multiprocessing` module for speeding up the experiments by using multi-core parallelization."
     ]
    },
    {
     "cell_type": "code",
     "collapsed": false,
     "input": [
      "from multiprocessing import Pool"
     ],
     "language": "python",
     "metadata": {},
     "outputs": [],
     "prompt_number": 18
    },
    {
     "cell_type": "markdown",
     "metadata": {},
     "source": [
      "By default pool will have a number of proceses equal to the number of cores of your CPU."
     ]
    },
    {
     "cell_type": "markdown",
     "metadata": {},
     "source": [
      "Results will be stored on the dictionary `logbooks`."
     ]
    },
    {
     "cell_type": "code",
     "collapsed": false,
     "input": [
      "logbooks = {}"
     ],
     "language": "python",
     "metadata": {},
     "outputs": [],
     "prompt_number": 19
    },
    {
     "cell_type": "markdown",
     "metadata": {},
     "source": [
      "## Running \"traditional\" crowding distance"
     ]
    },
    {
     "cell_type": "code",
     "collapsed": false,
     "input": [
      "toolbox.register(\"select\", tools.selNSGA2)"
     ],
     "language": "python",
     "metadata": {},
     "outputs": [],
     "prompt_number": 20
    },
    {
     "cell_type": "code",
     "collapsed": false,
     "input": [
      "pool = Pool()"
     ],
     "language": "python",
     "metadata": {},
     "outputs": [],
     "prompt_number": 21
    },
    {
     "cell_type": "code",
     "collapsed": false,
     "input": [
      "%time logbooks['01. Crowding distance'] = pool.map(run_algo, [toolbox] * number_of_runs)"
     ],
     "language": "python",
     "metadata": {},
     "outputs": [
      {
       "output_type": "stream",
       "stream": "stdout",
       "text": [
        "CPU times: user 2.56 s, sys: 188 ms, total: 2.75 s\n",
        "Wall time: 33.1 s\n"
       ]
      }
     ],
     "prompt_number": 22
    },
    {
     "cell_type": "code",
     "collapsed": false,
     "input": [
      "pool.close()"
     ],
     "language": "python",
     "metadata": {},
     "outputs": [],
     "prompt_number": 23
    },
    {
     "cell_type": "markdown",
     "metadata": {},
     "source": [
      "## Running random selection"
     ]
    },
    {
     "cell_type": "code",
     "collapsed": false,
     "input": [
      "def sel_random(pop, k):\n",
      "    return selection_custom(pop, k, distance=assign_random, \n",
      "                                  key='fitness.distance')"
     ],
     "language": "python",
     "metadata": {},
     "outputs": [],
     "prompt_number": 24
    },
    {
     "cell_type": "code",
     "collapsed": false,
     "input": [
      "toolbox.register(\"select\", sel_random)"
     ],
     "language": "python",
     "metadata": {},
     "outputs": [],
     "prompt_number": 25
    },
    {
     "cell_type": "code",
     "collapsed": false,
     "input": [
      "pool = Pool()"
     ],
     "language": "python",
     "metadata": {},
     "outputs": [],
     "prompt_number": 26
    },
    {
     "cell_type": "code",
     "collapsed": false,
     "input": [
      "%time logbooks['02. random'] = pool.map(run_algo, [toolbox] * number_of_runs)"
     ],
     "language": "python",
     "metadata": {},
     "outputs": [
      {
       "output_type": "stream",
       "stream": "stdout",
       "text": [
        "CPU times: user 2.85 s, sys: 308 ms, total: 3.16 s\n",
        "Wall time: 32.3 s\n"
       ]
      }
     ],
     "prompt_number": 27
    },
    {
     "cell_type": "code",
     "collapsed": false,
     "input": [
      "pool.close()"
     ],
     "language": "python",
     "metadata": {},
     "outputs": [],
     "prompt_number": 28
    },
    {
     "cell_type": "markdown",
     "metadata": {},
     "source": [
      "## Running random but keeping the extreme points"
     ]
    },
    {
     "cell_type": "code",
     "collapsed": false,
     "input": [
      "def sel_random_keep_extremes(pop, k):\n",
      "    return selection_custom(pop, k, distance=assign_random_keep_extremes, \n",
      "                                  key='fitness.distance')"
     ],
     "language": "python",
     "metadata": {},
     "outputs": [],
     "prompt_number": 29
    },
    {
     "cell_type": "code",
     "collapsed": false,
     "input": [
      "toolbox.register(\"select\", sel_random_keep_extremes)"
     ],
     "language": "python",
     "metadata": {},
     "outputs": [],
     "prompt_number": 30
    },
    {
     "cell_type": "code",
     "collapsed": false,
     "input": [
      "pool = Pool()"
     ],
     "language": "python",
     "metadata": {},
     "outputs": [],
     "prompt_number": 31
    },
    {
     "cell_type": "code",
     "collapsed": false,
     "input": [
      "%time logbooks['03. random with extremes'] = pool.map(run_algo, [toolbox] * number_of_runs)"
     ],
     "language": "python",
     "metadata": {},
     "outputs": [
      {
       "output_type": "stream",
       "stream": "stdout",
       "text": [
        "CPU times: user 2.58 s, sys: 345 ms, total: 2.92 s\n",
        "Wall time: 33.2 s\n"
       ]
      }
     ],
     "prompt_number": 32
    },
    {
     "cell_type": "code",
     "collapsed": false,
     "input": [
      "pool.close()"
     ],
     "language": "python",
     "metadata": {},
     "outputs": [],
     "prompt_number": 33
    },
    {
     "cell_type": "markdown",
     "metadata": {},
     "source": [
      "## Running Euclidean distance"
     ]
    },
    {
     "cell_type": "code",
     "collapsed": false,
     "input": [
      "def sel_euclidean(pop, k):\n",
      "    return selection_custom(pop, k, distance=assign_euclidean, \n",
      "                                  key='fitness.distance')"
     ],
     "language": "python",
     "metadata": {},
     "outputs": [],
     "prompt_number": 34
    },
    {
     "cell_type": "code",
     "collapsed": false,
     "input": [
      "toolbox.register(\"select\", sel_euclidean)"
     ],
     "language": "python",
     "metadata": {},
     "outputs": [],
     "prompt_number": 35
    },
    {
     "cell_type": "code",
     "collapsed": false,
     "input": [
      "pool = Pool()"
     ],
     "language": "python",
     "metadata": {},
     "outputs": [],
     "prompt_number": 36
    },
    {
     "cell_type": "code",
     "collapsed": false,
     "input": [
      "%time logbooks['04. Euclidean distance'] = pool.map(run_algo, [toolbox] * number_of_runs)"
     ],
     "language": "python",
     "metadata": {},
     "outputs": [
      {
       "output_type": "stream",
       "stream": "stdout",
       "text": [
        "CPU times: user 2.78 s, sys: 450 ms, total: 3.23 s\n",
        "Wall time: 3min 27s\n"
       ]
      }
     ],
     "prompt_number": 37
    },
    {
     "cell_type": "code",
     "collapsed": false,
     "input": [
      "pool.close()"
     ],
     "language": "python",
     "metadata": {},
     "outputs": [],
     "prompt_number": 38
    },
    {
     "cell_type": "markdown",
     "metadata": {},
     "source": [
      "## Running Euclidean distance and keeping the extremes"
     ]
    },
    {
     "cell_type": "code",
     "collapsed": false,
     "input": [
      "def sel_euclidean_keep_extremes(pop, k):\n",
      "    return selection_custom(pop, k, distance=assign_euclidean_keep_extremes, \n",
      "                                  key='fitness.distance')"
     ],
     "language": "python",
     "metadata": {},
     "outputs": [],
     "prompt_number": 39
    },
    {
     "cell_type": "code",
     "collapsed": false,
     "input": [
      "toolbox.register(\"select\", sel_euclidean_keep_extremes)"
     ],
     "language": "python",
     "metadata": {},
     "outputs": [],
     "prompt_number": 40
    },
    {
     "cell_type": "code",
     "collapsed": false,
     "input": [
      "pool = Pool()"
     ],
     "language": "python",
     "metadata": {},
     "outputs": [],
     "prompt_number": 41
    },
    {
     "cell_type": "code",
     "collapsed": false,
     "input": [
      "%time logbooks['05. Euclidean distance with extremes'] = pool.map(run_algo, [toolbox] * number_of_runs)"
     ],
     "language": "python",
     "metadata": {},
     "outputs": [
      {
       "output_type": "stream",
       "stream": "stdout",
       "text": [
        "CPU times: user 3.08 s, sys: 512 ms, total: 3.6 s\n",
        "Wall time: 3min 21s\n"
       ]
      }
     ],
     "prompt_number": 42
    },
    {
     "cell_type": "code",
     "collapsed": false,
     "input": [
      "pool.close()"
     ],
     "language": "python",
     "metadata": {},
     "outputs": [],
     "prompt_number": 43
    },
    {
     "cell_type": "markdown",
     "metadata": {},
     "source": [
      "# Plotting the results\n",
      "\n",
      "For each method, we will plot the values of the hypervolume indicator of each generation."
     ]
    },
    {
     "cell_type": "code",
     "collapsed": false,
     "input": [
      "import seaborn as sns\n",
      "sns.set(style=\"darkgrid\", palette=\"Set2\")"
     ],
     "language": "python",
     "metadata": {},
     "outputs": [],
     "prompt_number": 44
    },
    {
     "cell_type": "code",
     "collapsed": false,
     "input": [
      "def compute_reference_point(logbooks, epsilon=0.5):\n",
      "    '''A (very) inefficient implementation of calculating the \n",
      "    ref point for hypervolume calculation as the maximum value \n",
      "    of all objectives plus an epsilon.'''\n",
      "    reference = np.zeros(number_of_objs)\n",
      "    for method in logbooks:\n",
      "        for logbook in logbooks[method]:\n",
      "            for pop in logbook.select('pop'):\n",
      "                for ind in pop:\n",
      "                    for i,obj in enumerate(ind.fitness.values):\n",
      "                        reference[i] = max(obj, reference[i])\n",
      "    return reference + epsilon"
     ],
     "language": "python",
     "metadata": {},
     "outputs": [],
     "prompt_number": 45
    },
    {
     "cell_type": "code",
     "collapsed": false,
     "input": [
      "def compute_hypervolumes(logbooks, reference):\n",
      "    '''Returns a dictionary that binds a method name with a list. \n",
      "    Each element of the list is a list of hypervolume values \n",
      "    that correspond to one `logbook` (run).'''\n",
      "    max_hyp = -np.inf\n",
      "    min_hyp = np.inf\n",
      "    \n",
      "    hypervolumes = {}\n",
      "    for method in logbooks:\n",
      "        hypervolumes[method] = []\n",
      "        for logbook in logbooks[method]:\n",
      "            hypers =[]\n",
      "            for pop in logbook.select('pop'):\n",
      "                filt = tools.sortNondominated(pop, len(pop), first_front_only=True)[0]\n",
      "                hypers.append(bt.hypervolume(filt, reference))\n",
      "            max_hyp = max((max(hypers),max_hyp))\n",
      "            min_hyp = min((min(hypers),min_hyp))\n",
      "            hypervolumes[method].append(hypers)\n",
      "    return hypervolumes, min_hyp, max_hyp"
     ],
     "language": "python",
     "metadata": {},
     "outputs": [],
     "prompt_number": 46
    },
    {
     "cell_type": "code",
     "collapsed": false,
     "input": [
      "def plot_results(hypervolumes, hyp_lims=None):\n",
      "    fig, axarr = plt.subplots(len(hypervolumes), sharex=True, figsize=(11,2*len(hypervolumes)))\n",
      "\n",
      "    for idx,method in enumerate(sorted(hypervolumes)):\n",
      "        sns.tsplot(hypervolumes[method], err_style=['ci_band'],ci=95, ax=axarr[idx])\n",
      "        axarr[idx].set_title(method +' method')\n",
      "        axarr[idx].set_ylabel('Hypervolume')\n",
      "        if hyp_lims:\n",
      "            axarr[idx].set_ylim(hyp_lims)\n",
      "\n",
      "    plt.tight_layout()\n",
      "    plt.xlabel('Iterations')"
     ],
     "language": "python",
     "metadata": {},
     "outputs": [],
     "prompt_number": 47
    },
    {
     "cell_type": "code",
     "collapsed": false,
     "input": [
      "reference = compute_reference_point(logbooks)\n",
      "print('Using reference point: ', reference)\n",
      "hypervolumes, min_hyp, max_hyp = compute_hypervolumes(logbooks, reference)\n",
      "plot_results(hypervolumes, (min_hyp, max_hyp))"
     ],
     "language": "python",
     "metadata": {},
     "outputs": [
      {
       "output_type": "stream",
       "stream": "stdout",
       "text": [
        "Using reference point:  [ 5.06320177  4.99281919  4.95546549  4.77104234  4.83988659]\n"
       ]
      },
      {
       "metadata": {},
       "output_type": "display_data",
       "png": "[encoded data removed]",
       "text": [
        "<matplotlib.figure.Figure at 0x11c1c3240>"
       ]
      }
     ],
     "prompt_number": 48
    },
    {
     "cell_type": "markdown",
     "metadata": {},
     "source": [
      "* It is very intesting how the random selection that maintains the extremes matches the performance of crowding distance. \n",
      "* It is necessary to test for diversity on these results."
     ]
    },
    {
     "cell_type": "markdown",
     "metadata": {},
     "source": [
      "---"
     ]
    },
    {
     "cell_type": "markdown",
     "metadata": {},
     "source": [
      "# Experiments with DTLZ7"
     ]
    },
    {
     "cell_type": "markdown",
     "metadata": {},
     "source": [
      "Let's repeat the previous experiments but using DTLZ7."
     ]
    },
    {
     "cell_type": "code",
     "collapsed": false,
     "input": [
      "def dtlz7(ind, n_objs):\n",
      "    gval = 1 + 9.0 / len(ind[n_objs-1:]) * sum([a for a in ind[n_objs-1:]])\n",
      "    fit = [ind for ind in ind[:n_objs-1]]\n",
      "    fit.append((1 + gval) * (n_objs - sum([a / (1.0 + gval) * (1 + math.sin(3 * math.pi * a)) for a in ind[:n_objs-1]])))\n",
      "    return fit"
     ],
     "language": "python",
     "metadata": {},
     "outputs": [],
     "prompt_number": 49
    },
    {
     "cell_type": "code",
     "collapsed": false,
     "input": [
      "def dtlz7_instance(ind):\n",
      "    return dtlz7(ind, number_of_objs)"
     ],
     "language": "python",
     "metadata": {},
     "outputs": [],
     "prompt_number": 50
    },
    {
     "cell_type": "code",
     "collapsed": false,
     "input": [
      "toolbox.register(\"evaluate\", dtlz7_instance)"
     ],
     "language": "python",
     "metadata": {},
     "outputs": [],
     "prompt_number": 51
    },
    {
     "cell_type": "code",
     "collapsed": false,
     "input": [
      "toolbox.max_gen = 200"
     ],
     "language": "python",
     "metadata": {},
     "outputs": [],
     "prompt_number": 52
    },
    {
     "cell_type": "code",
     "collapsed": false,
     "input": [
      "logbooks = {}"
     ],
     "language": "python",
     "metadata": {},
     "outputs": [],
     "prompt_number": 53
    },
    {
     "cell_type": "code",
     "collapsed": false,
     "input": [
      "toolbox.register(\"select\", tools.selNSGA2)\n",
      "pool = Pool()\n",
      "%time logbooks['01. Crowding distance'] = pool.map(run_algo, [toolbox] * number_of_runs)\n",
      "pool.close()"
     ],
     "language": "python",
     "metadata": {},
     "outputs": [
      {
       "output_type": "stream",
       "stream": "stdout",
       "text": [
        "CPU times: user 5.57 s, sys: 556 ms, total: 6.12 s\n",
        "Wall time: 1min 1s\n"
       ]
      }
     ],
     "prompt_number": 54
    },
    {
     "cell_type": "code",
     "collapsed": false,
     "input": [
      "def sel_random(pop, k):\n",
      "    return selection_custom(pop, k, distance=assign_random, \n",
      "                                  key='fitness.distance')\n",
      "toolbox.register(\"select\", sel_random)\n",
      "pool = Pool()\n",
      "%time logbooks['02. random'] = pool.map(run_algo, [toolbox] * number_of_runs)\n",
      "pool.close()"
     ],
     "language": "python",
     "metadata": {},
     "outputs": [
      {
       "output_type": "stream",
       "stream": "stdout",
       "text": [
        "CPU times: user 5.97 s, sys: 742 ms, total: 6.71 s\n",
        "Wall time: 1min 10s\n"
       ]
      }
     ],
     "prompt_number": 55
    },
    {
     "cell_type": "code",
     "collapsed": false,
     "input": [
      "def sel_random_keep_extremes(pop, k):\n",
      "    return selection_custom(pop, k, distance=assign_random_keep_extremes, \n",
      "                                  key='fitness.distance')\n",
      "toolbox.register(\"select\", sel_random_keep_extremes)\n",
      "pool = Pool()\n",
      "%time logbooks['03. random with extremes'] = pool.map(run_algo, [toolbox] * number_of_runs)\n",
      "pool.close()"
     ],
     "language": "python",
     "metadata": {},
     "outputs": [
      {
       "output_type": "stream",
       "stream": "stdout",
       "text": [
        "CPU times: user 5.53 s, sys: 819 ms, total: 6.35 s\n",
        "Wall time: 1min 7s\n"
       ]
      }
     ],
     "prompt_number": 56
    },
    {
     "cell_type": "code",
     "collapsed": false,
     "input": [
      "def sel_euclidean(pop, k):\n",
      "    return selection_custom(pop, k, distance=assign_euclidean, \n",
      "                                  key='fitness.distance')\n",
      "toolbox.register(\"select\", sel_euclidean)\n",
      "pool = Pool()\n",
      "%time logbooks['04. Euclidean distance'] = pool.map(run_algo, [toolbox] * number_of_runs)\n",
      "pool.close()"
     ],
     "language": "python",
     "metadata": {},
     "outputs": [
      {
       "output_type": "stream",
       "stream": "stdout",
       "text": [
        "CPU times: user 6.78 s, sys: 1.09 s, total: 7.87 s\n",
        "Wall time: 8min 41s\n"
       ]
      }
     ],
     "prompt_number": 57
    },
    {
     "cell_type": "code",
     "collapsed": false,
     "input": [
      "def sel_euclidean_keep_extremes(pop, k):\n",
      "    return selection_custom(pop, k, distance=assign_euclidean_keep_extremes, \n",
      "                                  key='fitness.distance')\n",
      "toolbox.register(\"select\", sel_euclidean_keep_extremes)\n",
      "pool = Pool()\n",
      "%time logbooks['05. Euclidean distance with extremes'] = pool.map(run_algo, [toolbox] * number_of_runs)\n",
      "pool.close()"
     ],
     "language": "python",
     "metadata": {},
     "outputs": [
      {
       "output_type": "stream",
       "stream": "stdout",
       "text": [
        "CPU times: user 2 \u00b5s, sys: 0 ns, total: 2 \u00b5s\n",
        "Wall time: 5.96 \u00b5s\n"
       ]
      }
     ],
     "prompt_number": 58
    },
    {
     "cell_type": "code",
     "collapsed": false,
     "input": [
      "reference = compute_reference_point(logbooks)\n",
      "print('Using reference point: ', reference)\n",
      "hypervolumes, min_hyp, max_hyp = compute_hypervolumes(logbooks, reference)\n",
      "plot_results(hypervolumes, (min_hyp, max_hyp))"
     ],
     "language": "python",
     "metadata": {},
     "outputs": [
      {
       "output_type": "stream",
       "stream": "stdout",
       "text": [
        "Using reference point:  [  1.4999997    1.49999879   1.4999836    1.49999332  42.40754145]\n"
       ]
      },
      {
       "metadata": {},
       "output_type": "display_data",
       "png": "[encoded data removed]",
       "text": [
        "<matplotlib.figure.Figure at 0x15021b358>"
       ]
      }
     ],
     "prompt_number": 60
    },
    {
     "cell_type": "markdown",
     "metadata": {},
     "source": [
      "---"
     ]
    }
   ],
   "metadata": {}
  }
 ]
}